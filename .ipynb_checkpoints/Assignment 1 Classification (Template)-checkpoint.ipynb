{
 "cells": [
  {
   "cell_type": "markdown",
   "id": "39d43a4e",
   "metadata": {},
   "source": [
    "Note: Use this template to develop your project. Do not change the steps. For each step, you may add additional cells if needed."
   ]
  },
  {
   "cell_type": "markdown",
   "id": "2b9b28a8",
   "metadata": {},
   "source": [
    "#### Group Information\n",
    "\n",
    "Group No: \n",
    "\n",
    "- Member 1: \n",
    "- Member 2:\n",
    "- Member 3:\n",
    "- Member 4:"
   ]
  },
  {
   "cell_type": "code",
   "execution_count": 1,
   "id": "79b84136",
   "metadata": {},
   "outputs": [],
   "source": [
    "%config Completer.use_jedi=False\n",
    "import pandas as pd\n",
    "import tensorflow as tf\n"
   ]
  },
  {
   "cell_type": "markdown",
   "id": "5dceb4ff",
   "metadata": {},
   "source": [
    "#### Load the dataset"
   ]
  },
  {
   "cell_type": "code",
   "execution_count": 2,
   "id": "2904277d-9647-4ec8-b956-e90802c4639f",
   "metadata": {},
   "outputs": [
    {
     "name": "stdout",
     "output_type": "stream",
     "text": [
      "[WinError 2] The system cannot find the file specified: 'C:\\\\Users\\\\danis\\\\Desktop\\\\CPC251-Asg1'\n",
      "C:\\Users\\danis\\Desktop\\CPC 251\\CPC251-Asg1\n"
     ]
    }
   ],
   "source": [
    "cd C:\\Users\\danis\\Desktop\\CPC251-Asg1"
   ]
  },
  {
   "cell_type": "code",
   "execution_count": 3,
   "id": "a83d38c1",
   "metadata": {},
   "outputs": [],
   "source": [
    "dataset = pd.read_csv('classification_dataset.csv')"
   ]
  },
  {
   "cell_type": "markdown",
   "id": "7f0f56c6",
   "metadata": {},
   "source": [
    "#### Define the loss function"
   ]
  },
  {
   "cell_type": "code",
   "execution_count": 4,
   "id": "b4024775",
   "metadata": {},
   "outputs": [],
   "source": [
    "def loss_fn(y_true, y_pred):\n",
    "    \"\"\"\n",
    "    This function calculates the loss function\n",
    "    \"\"\"\n",
    "    return tf.reduce_mean(tf.square(y_true - y_pred))"
   ]
  },
  {
   "cell_type": "markdown",
   "id": "753a2eca",
   "metadata": {},
   "source": [
    "#### Define function to perform prediction"
   ]
  },
  {
   "cell_type": "code",
   "execution_count": 5,
   "id": "4e165d82-5b8e-47c8-a4ab-86e977c49f4e",
   "metadata": {},
   "outputs": [],
   "source": [
    "def sigmoid(x):\n",
    "    \"\"\" \n",
    "    This function calculates the sigmoid function.\n",
    "    \"\"\"\n",
    "    return 1 / (1 + tf.exp(-x))\n",
    "\n",
    "def relu(x):\n",
    "    \"\"\" \n",
    "    This function calculates the ReLU function.\n",
    "    \"\"\"\n",
    "    return tf.maximum(0, x)\n",
    "\n",
    "def forward(inputs, weights, biases):\n",
    "    \"\"\" \n",
    "    This function calculates the forward pass (predicts the label).\n",
    "    \"\"\"\n",
    "    hidden_output = relu(tf.matmul(inputs, weights[0]) + biases[0])\n",
    "    output = tf.matmul(hidden_output, weights[1]) + biases[1]\n",
    "    return output"
   ]
  },
  {
   "cell_type": "markdown",
   "id": "e7bc735b",
   "metadata": {},
   "source": [
    "#### Define function for model training\n",
    "Display the training and validation loss values for each epoch of the training loop. The displayed value must be in 6 decimal places.<br>\n",
    "Hint: <br>\n",
    "Use `tf.GradientTape` to compute the gradients."
   ]
  },
  {
   "cell_type": "code",
   "execution_count": 6,
   "id": "fe17ccc5",
   "metadata": {},
   "outputs": [],
   "source": [
    "import tensorflow as tf\n",
    "\n",
    "def train(model, optimizer, x_train, y_train, weights, biases):\n",
    "    with tf.GradientTape() as tape:\n",
    "        predictions = model(x_train, weights, biases)\n",
    "        loss = tf.reduce_mean(tf.square(predictions - y_train))  # Mean Squared Error loss\n",
    "    \n",
    "    gradients = tape.gradient(loss, weights + biases)\n",
    "    optimizer.apply_gradients(zip(gradients, weights + biases))\n",
    "    return loss\n",
    "\n",
    "\n",
    "\n",
    "def fit(model, optimizer, train_data, valid_data, weights, biases, epochs, batch_size, patience):\n",
    "    train_losses = []\n",
    "    valid_losses = []\n",
    "    best_valid_loss = float('inf')\n",
    "    epochs_no_improve = 0\n",
    "    \n",
    "    for epoch in range(epochs):\n",
    "        print(\"Epoch {}/{}\".format(epoch + 1, epochs))\n",
    "        epoch_train_loss = 0.0\n",
    "        \n",
    "        # Mini-batch training loop\n",
    "        for batch in range(len(train_data[0]) // batch_size):\n",
    "            start = batch * batch_size\n",
    "            end = start + batch_size\n",
    "            x_batch = train_data[0][start:end]\n",
    "            y_batch = train_data[1][start:end]\n",
    "            batch_loss = train(model, optimizer, x_batch, y_batch, weights, biases)\n",
    "            epoch_train_loss += batch_loss.numpy()\n",
    "        \n",
    "        epoch_train_loss /= len(train_data[0]) // batch_size\n",
    "        train_losses.append(epoch_train_loss)\n",
    "        print(\"Epoch Train Loss: {:.6f}\".format(epoch_train_loss))\n",
    "        \n",
    "        # Validation loss\n",
    "        val_predictions = model(valid_data[0], weights, biases)\n",
    "        val_loss = tf.reduce_mean(tf.square(val_predictions - valid_data[1]))\n",
    "        valid_loss = val_loss.numpy()\n",
    "        valid_losses.append(valid_loss)\n",
    "        print(\"Epoch Valid Loss: {:.6f}\".format(valid_loss))\n",
    "        \n",
    "        # Early stopping\n",
    "        if valid_loss < best_valid_loss:\n",
    "            best_valid_loss = valid_loss\n",
    "            epochs_no_improve = 0\n",
    "        else:\n",
    "            epochs_no_improve += 1\n",
    "            if epochs_no_improve == patience:\n",
    "                print(\"Early stopping! No improvement in validation loss for {} epochs.\".format(patience))\n",
    "                break\n",
    "    \n",
    "    return train_losses, valid_losses"
   ]
  },
  {
   "cell_type": "markdown",
   "id": "28f45213",
   "metadata": {},
   "source": [
    "#### Define the tensors to hold the weights and biases (create the model)\n",
    "Hint: <br>\n",
    "Use `tf.Variable` to create the tensors.<br>\n",
    "Put the tensors in a list."
   ]
  },
  {
   "cell_type": "code",
   "execution_count": 7,
   "id": "a2e2172b",
   "metadata": {},
   "outputs": [],
   "source": [
    "# Define the dimensions of the layers\n",
    "input_dim = 5  # This should be the number of input features\n",
    "hidden_dim = 20  # This can be any number you choose\n",
    "output_dim = 1  # This should be the number of output classes\n",
    "\n",
    "# Initialize the weights and biases with random values\n",
    "weights = [\n",
    "    tf.Variable(tf.random.normal([input_dim, hidden_dim]), name='W1'),\n",
    "    tf.Variable(tf.random.normal([hidden_dim, output_dim]), name='W2')\n",
    "]\n",
    "\n",
    "biases = [\n",
    "    tf.Variable(tf.zeros([hidden_dim]), name='b1'),\n",
    "    tf.Variable(tf.zeros([output_dim]), name='b2')\n",
    "]"
   ]
  },
  {
   "cell_type": "markdown",
   "id": "176badb8",
   "metadata": {},
   "source": [
    "#### Split the dataset\n",
    "The ratio of training and test is 7:1:2."
   ]
  },
  {
   "cell_type": "code",
   "execution_count": 8,
   "id": "5fa1b9b6",
   "metadata": {},
   "outputs": [],
   "source": [
    "from sklearn.model_selection import train_test_split\n",
    "\n",
    "X = dataset.drop('label', axis=1)\n",
    "y = dataset['label']\n",
    "\n",
    "# Split the data into training+validation set and test set\n",
    "X_temp, X_test, y_temp, y_test = train_test_split(X, y, test_size=0.2, random_state=None)\n",
    "\n",
    "# Split the training+validation set into training and validation sets\n",
    "X_train, X_val, y_train, y_val = train_test_split(X_temp, y_temp, test_size=0.125, random_state=None)  # 0.125 x 0.8 = 0.1\n"
   ]
  },
  {
   "cell_type": "markdown",
   "id": "c3c4d6cf",
   "metadata": {},
   "source": [
    "#### Normalize the data"
   ]
  },
  {
   "cell_type": "code",
   "execution_count": 9,
   "id": "f689b7c6",
   "metadata": {},
   "outputs": [],
   "source": [
    "from sklearn.preprocessing import StandardScaler\n",
    "\n",
    "# Assuming that 'X_train', 'X_val' and 'X_test' are your datasets\n",
    "\n",
    "# Initialize a new StandardScaler instance\n",
    "scaler = StandardScaler()\n",
    "\n",
    "# Fit the scaler to the training data and transform it\n",
    "X_train_scaled = scaler.fit_transform(X_train)\n",
    "\n",
    "# Use the same scaler to transform the validation and test data\n",
    "X_val_scaled = scaler.transform(X_val)\n",
    "X_test_scaled = scaler.transform(X_test)\n"
   ]
  },
  {
   "cell_type": "markdown",
   "id": "b1a2e7d6",
   "metadata": {},
   "source": [
    "#### Train the model"
   ]
  },
  {
   "cell_type": "code",
   "execution_count": 10,
   "id": "6304c496",
   "metadata": {
    "scrolled": true
   },
   "outputs": [
    {
     "name": "stdout",
     "output_type": "stream",
     "text": [
      "Epoch 1/100\n",
      "Epoch Train Loss: 20.315009\n",
      "Epoch Valid Loss: 5.351719\n",
      "Epoch 2/100\n",
      "Epoch Train Loss: 2.608414\n",
      "Epoch Valid Loss: 1.622252\n",
      "Epoch 3/100\n",
      "Epoch Train Loss: 1.212941\n",
      "Epoch Valid Loss: 1.116607\n",
      "Epoch 4/100\n",
      "Epoch Train Loss: 0.859754\n",
      "Epoch Valid Loss: 0.877650\n",
      "Epoch 5/100\n",
      "Epoch Train Loss: 0.682627\n",
      "Epoch Valid Loss: 0.729428\n",
      "Epoch 6/100\n",
      "Epoch Train Loss: 0.584198\n",
      "Epoch Valid Loss: 0.633875\n",
      "Epoch 7/100\n",
      "Epoch Train Loss: 0.525641\n",
      "Epoch Valid Loss: 0.571226\n",
      "Epoch 8/100\n",
      "Epoch Train Loss: 0.487058\n",
      "Epoch Valid Loss: 0.529767\n",
      "Epoch 9/100\n",
      "Epoch Train Loss: 0.458631\n",
      "Epoch Valid Loss: 0.502397\n",
      "Epoch 10/100\n",
      "Epoch Train Loss: 0.438084\n",
      "Epoch Valid Loss: 0.481135\n",
      "Epoch 11/100\n",
      "Epoch Train Loss: 0.420214\n",
      "Epoch Valid Loss: 0.463575\n",
      "Epoch 12/100\n",
      "Epoch Train Loss: 0.404182\n",
      "Epoch Valid Loss: 0.449667\n",
      "Epoch 13/100\n",
      "Epoch Train Loss: 0.390045\n",
      "Epoch Valid Loss: 0.434978\n",
      "Epoch 14/100\n",
      "Epoch Train Loss: 0.377010\n",
      "Epoch Valid Loss: 0.421509\n",
      "Epoch 15/100\n",
      "Epoch Train Loss: 0.364849\n",
      "Epoch Valid Loss: 0.409470\n",
      "Epoch 16/100\n",
      "Epoch Train Loss: 0.353398\n",
      "Epoch Valid Loss: 0.396128\n",
      "Epoch 17/100\n",
      "Epoch Train Loss: 0.343171\n",
      "Epoch Valid Loss: 0.383947\n",
      "Epoch 18/100\n",
      "Epoch Train Loss: 0.334201\n",
      "Epoch Valid Loss: 0.372869\n",
      "Epoch 19/100\n",
      "Epoch Train Loss: 0.326294\n",
      "Epoch Valid Loss: 0.362424\n",
      "Epoch 20/100\n",
      "Epoch Train Loss: 0.318954\n",
      "Epoch Valid Loss: 0.351717\n",
      "Epoch 21/100\n",
      "Epoch Train Loss: 0.312033\n",
      "Epoch Valid Loss: 0.339638\n",
      "Epoch 22/100\n",
      "Epoch Train Loss: 0.305518\n",
      "Epoch Valid Loss: 0.329354\n",
      "Epoch 23/100\n",
      "Epoch Train Loss: 0.299985\n",
      "Epoch Valid Loss: 0.321158\n",
      "Epoch 24/100\n",
      "Epoch Train Loss: 0.295146\n",
      "Epoch Valid Loss: 0.314664\n",
      "Epoch 25/100\n",
      "Epoch Train Loss: 0.290996\n",
      "Epoch Valid Loss: 0.309113\n",
      "Epoch 26/100\n",
      "Epoch Train Loss: 0.287431\n",
      "Epoch Valid Loss: 0.304083\n",
      "Epoch 27/100\n",
      "Epoch Train Loss: 0.284300\n",
      "Epoch Valid Loss: 0.299697\n",
      "Epoch 28/100\n",
      "Epoch Train Loss: 0.281615\n",
      "Epoch Valid Loss: 0.295740\n",
      "Epoch 29/100\n",
      "Epoch Train Loss: 0.279267\n",
      "Epoch Valid Loss: 0.292365\n",
      "Epoch 30/100\n",
      "Epoch Train Loss: 0.277176\n",
      "Epoch Valid Loss: 0.289161\n",
      "Epoch 31/100\n",
      "Epoch Train Loss: 0.275231\n",
      "Epoch Valid Loss: 0.286449\n",
      "Epoch 32/100\n",
      "Epoch Train Loss: 0.273538\n",
      "Epoch Valid Loss: 0.284181\n",
      "Epoch 33/100\n",
      "Epoch Train Loss: 0.272074\n",
      "Epoch Valid Loss: 0.282089\n",
      "Epoch 34/100\n",
      "Epoch Train Loss: 0.270769\n",
      "Epoch Valid Loss: 0.280332\n",
      "Epoch 35/100\n",
      "Epoch Train Loss: 0.269622\n",
      "Epoch Valid Loss: 0.278700\n",
      "Epoch 36/100\n",
      "Epoch Train Loss: 0.268599\n",
      "Epoch Valid Loss: 0.277173\n",
      "Epoch 37/100\n",
      "Epoch Train Loss: 0.267655\n",
      "Epoch Valid Loss: 0.275681\n",
      "Epoch 38/100\n",
      "Epoch Train Loss: 0.266778\n",
      "Epoch Valid Loss: 0.274407\n",
      "Epoch 39/100\n",
      "Epoch Train Loss: 0.265979\n",
      "Epoch Valid Loss: 0.273232\n",
      "Epoch 40/100\n",
      "Epoch Train Loss: 0.265246\n",
      "Epoch Valid Loss: 0.272144\n",
      "Epoch 41/100\n",
      "Epoch Train Loss: 0.264567\n",
      "Epoch Valid Loss: 0.271134\n",
      "Epoch 42/100\n",
      "Epoch Train Loss: 0.263939\n",
      "Epoch Valid Loss: 0.270146\n",
      "Epoch 43/100\n",
      "Epoch Train Loss: 0.263359\n",
      "Epoch Valid Loss: 0.269350\n",
      "Epoch 44/100\n",
      "Epoch Train Loss: 0.262831\n",
      "Epoch Valid Loss: 0.268606\n",
      "Epoch 45/100\n",
      "Epoch Train Loss: 0.262347\n",
      "Epoch Valid Loss: 0.267836\n",
      "Epoch 46/100\n",
      "Epoch Train Loss: 0.261883\n",
      "Epoch Valid Loss: 0.267273\n",
      "Epoch 47/100\n",
      "Epoch Train Loss: 0.261471\n",
      "Epoch Valid Loss: 0.266627\n",
      "Epoch 48/100\n",
      "Epoch Train Loss: 0.261086\n",
      "Epoch Valid Loss: 0.266206\n",
      "Epoch 49/100\n",
      "Epoch Train Loss: 0.260742\n",
      "Epoch Valid Loss: 0.265620\n",
      "Epoch 50/100\n",
      "Epoch Train Loss: 0.260391\n",
      "Epoch Valid Loss: 0.265112\n",
      "Epoch 51/100\n",
      "Epoch Train Loss: 0.260084\n",
      "Epoch Valid Loss: 0.264685\n",
      "Epoch 52/100\n",
      "Epoch Train Loss: 0.259773\n",
      "Epoch Valid Loss: 0.264176\n",
      "Epoch 53/100\n",
      "Epoch Train Loss: 0.259494\n",
      "Epoch Valid Loss: 0.263766\n",
      "Epoch 54/100\n",
      "Epoch Train Loss: 0.259230\n",
      "Epoch Valid Loss: 0.263321\n",
      "Epoch 55/100\n",
      "Epoch Train Loss: 0.258963\n",
      "Epoch Valid Loss: 0.262783\n",
      "Epoch 56/100\n",
      "Epoch Train Loss: 0.258756\n",
      "Epoch Valid Loss: 0.262506\n",
      "Epoch 57/100\n",
      "Epoch Train Loss: 0.258524\n",
      "Epoch Valid Loss: 0.262088\n",
      "Epoch 58/100\n",
      "Epoch Train Loss: 0.258285\n",
      "Epoch Valid Loss: 0.261813\n",
      "Epoch 59/100\n",
      "Epoch Train Loss: 0.258029\n",
      "Epoch Valid Loss: 0.261481\n",
      "Epoch 60/100\n",
      "Epoch Train Loss: 0.257801\n",
      "Epoch Valid Loss: 0.261203\n",
      "Epoch 61/100\n",
      "Epoch Train Loss: 0.257560\n",
      "Epoch Valid Loss: 0.260824\n",
      "Epoch 62/100\n",
      "Epoch Train Loss: 0.257372\n",
      "Epoch Valid Loss: 0.260561\n",
      "Epoch 63/100\n",
      "Epoch Train Loss: 0.257192\n",
      "Epoch Valid Loss: 0.260274\n",
      "Epoch 64/100\n",
      "Epoch Train Loss: 0.257000\n",
      "Epoch Valid Loss: 0.260005\n",
      "Epoch 65/100\n",
      "Epoch Train Loss: 0.256818\n",
      "Epoch Valid Loss: 0.259825\n",
      "Epoch 66/100\n",
      "Epoch Train Loss: 0.256628\n",
      "Epoch Valid Loss: 0.259584\n",
      "Epoch 67/100\n",
      "Epoch Train Loss: 0.256476\n",
      "Epoch Valid Loss: 0.259396\n",
      "Epoch 68/100\n",
      "Epoch Train Loss: 0.256313\n",
      "Epoch Valid Loss: 0.259275\n",
      "Epoch 69/100\n",
      "Epoch Train Loss: 0.256177\n",
      "Epoch Valid Loss: 0.259118\n",
      "Epoch 70/100\n",
      "Epoch Train Loss: 0.256001\n",
      "Epoch Valid Loss: 0.258958\n",
      "Epoch 71/100\n",
      "Epoch Train Loss: 0.255867\n",
      "Epoch Valid Loss: 0.258887\n",
      "Epoch 72/100\n",
      "Epoch Train Loss: 0.255719\n",
      "Epoch Valid Loss: 0.258693\n",
      "Epoch 73/100\n",
      "Epoch Train Loss: 0.255656\n",
      "Epoch Valid Loss: 0.258651\n",
      "Epoch 74/100\n",
      "Epoch Train Loss: 0.255520\n",
      "Epoch Valid Loss: 0.258427\n",
      "Epoch 75/100\n",
      "Epoch Train Loss: 0.255471\n",
      "Epoch Valid Loss: 0.258300\n",
      "Epoch 76/100\n",
      "Epoch Train Loss: 0.255395\n",
      "Epoch Valid Loss: 0.258081\n",
      "Epoch 77/100\n",
      "Epoch Train Loss: 0.255350\n",
      "Epoch Valid Loss: 0.257903\n",
      "Epoch 78/100\n",
      "Epoch Train Loss: 0.255295\n",
      "Epoch Valid Loss: 0.257891\n",
      "Epoch 79/100\n",
      "Epoch Train Loss: 0.255211\n",
      "Epoch Valid Loss: 0.257691\n",
      "Epoch 80/100\n",
      "Epoch Train Loss: 0.255168\n",
      "Epoch Valid Loss: 0.257444\n",
      "Epoch 81/100\n",
      "Epoch Train Loss: 0.255161\n",
      "Epoch Valid Loss: 0.257244\n",
      "Epoch 82/100\n",
      "Epoch Train Loss: 0.255029\n",
      "Epoch Valid Loss: 0.256984\n",
      "Epoch 83/100\n",
      "Epoch Train Loss: 0.255061\n",
      "Epoch Valid Loss: 0.256868\n",
      "Epoch 84/100\n",
      "Epoch Train Loss: 0.254947\n",
      "Epoch Valid Loss: 0.256900\n",
      "Epoch 85/100\n",
      "Epoch Train Loss: 0.254943\n",
      "Epoch Valid Loss: 0.256975\n",
      "Epoch 86/100\n",
      "Epoch Train Loss: 0.254909\n",
      "Epoch Valid Loss: 0.257084\n",
      "Early stopping! No improvement in validation loss for 3 epochs.\n"
     ]
    }
   ],
   "source": [
    "# Define your model here\n",
    "model = forward\n",
    "\n",
    "# Define your optimizer\n",
    "optimizer = tf.optimizers.Adam(learning_rate=0.01)\n",
    "\n",
    "# Convert your datasets to TensorFlow tensors\n",
    "X_train_tensor = tf.convert_to_tensor(X_train_scaled, dtype=tf.float32)\n",
    "y_train_tensor = tf.convert_to_tensor(y_train.values, dtype=tf.float32)\n",
    "X_val_tensor = tf.convert_to_tensor(X_val_scaled, dtype=tf.float32)\n",
    "y_val_tensor = tf.convert_to_tensor(y_val.values, dtype=tf.float32)\n",
    "\n",
    "# Train the model\n",
    "train_losses, valid_losses = fit(model, optimizer, (X_train_tensor, y_train_tensor), (X_val_tensor, y_val_tensor), weights, biases, 100, 20, 3)\n"
   ]
  },
  {
   "cell_type": "markdown",
   "id": "45c41885",
   "metadata": {},
   "source": [
    "#### Display the training loss and validation loss against epoch graph"
   ]
  },
  {
   "cell_type": "code",
   "execution_count": 11,
   "id": "1812730a-1a58-4302-85ff-7a391f018b38",
   "metadata": {},
   "outputs": [
    {
     "data": {
      "image/png": "[encoded data removed]",
      "text/plain": [
       "<Figure size 640x480 with 1 Axes>"
      ]
     },
     "metadata": {},
     "output_type": "display_data"
    }
   ],
   "source": [
    "import matplotlib.pyplot as plt\n",
    "\n",
    "# Plot training and validation losses\n",
    "plt.plot(train_losses, label='Training Loss')\n",
    "plt.plot(valid_losses, label='Validation Loss')\n",
    "plt.xlabel('Epoch')\n",
    "plt.ylabel('Loss')\n",
    "plt.title('Training and Validation Loss')\n",
    "plt.legend()\n",
    "plt.show()\n"
   ]
  },
  {
   "cell_type": "markdown",
   "id": "0c0b4c38",
   "metadata": {},
   "source": [
    "#### Predict the test set"
   ]
  },
  {
   "cell_type": "code",
   "execution_count": 12,
   "id": "a84f73b1",
   "metadata": {},
   "outputs": [
    {
     "name": "stdout",
     "output_type": "stream",
     "text": [
      "Test Loss: 0.257382\n"
     ]
    }
   ],
   "source": [
    "# Convert your test set to TensorFlow tensors\n",
    "X_test_tensor = tf.convert_to_tensor(X_test_scaled, dtype=tf.float32)\n",
    "y_test_tensor = tf.convert_to_tensor(y_test.values, dtype=tf.float32)\n",
    "\n",
    "# Use the model to make predictions on the test set\n",
    "test_predictions = model(X_test_tensor, weights, biases)\n",
    "\n",
    "# Convert the predictions tensor to a NumPy array\n",
    "test_predictions_np = test_predictions.numpy()\n",
    "\n",
    "# Calculate the test loss using the provided loss function\n",
    "test_loss = loss_fn(y_test_tensor, test_predictions)\n",
    "\n",
    "# Display the test loss\n",
    "print(\"Test Loss: {:.6f}\".format(test_loss.numpy()))\n"
   ]
  },
  {
   "cell_type": "markdown",
   "id": "20d715ef",
   "metadata": {},
   "source": [
    "#### Display the confusion matrix and the classification report."
   ]
  },
  {
   "cell_type": "code",
   "execution_count": 14,
   "id": "c35deeb3",
   "metadata": {},
   "outputs": [
    {
     "name": "stdout",
     "output_type": "stream",
     "text": [
      "Confusion Matrix:\n",
      "[[35 70]\n",
      " [27 68]]\n",
      "\n",
      "Classification Report:\n",
      "              precision    recall  f1-score   support\n",
      "\n",
      "         0.0       0.56      0.33      0.42       105\n",
      "         1.0       0.49      0.72      0.58        95\n",
      "\n",
      "    accuracy                           0.52       200\n",
      "   macro avg       0.53      0.52      0.50       200\n",
      "weighted avg       0.53      0.52      0.50       200\n",
      "\n"
     ]
    }
   ],
   "source": [
    "from sklearn.metrics import confusion_matrix, classification_report\n",
    "\n",
    "# Convert predicted probabilities to binary predictions\n",
    "threshold = 0.5\n",
    "predicted_classes = (test_predictions_np >= threshold).astype(int)\n",
    "\n",
    "# Calculate confusion matrix\n",
    "conf_matrix = confusion_matrix(y_test_tensor.numpy(), predicted_classes)\n",
    "\n",
    "# Print confusion matrix\n",
    "print(\"Confusion Matrix:\")\n",
    "print(conf_matrix)\n",
    "\n",
    "# Calculate classification report\n",
    "class_report = classification_report(y_test_tensor.numpy(), predicted_classes)\n",
    "\n",
    "# Print classification report\n",
    "print(\"\\nClassification Report:\")\n",
    "print(class_report)\n"
   ]
  },
  {
   "cell_type": "code",
   "execution_count": null,
   "id": "d6d9e996-6bea-4f17-8cfb-da3202692575",
   "metadata": {},
   "outputs": [],
   "source": []
  },
  {
   "cell_type": "code",
   "execution_count": null,
   "id": "c10906ad-4af9-4631-a664-3658ef5b7015",
   "metadata": {},
   "outputs": [],
   "source": []
  },
  {
   "cell_type": "code",
   "execution_count": null,
   "id": "6cc2e0de-2abf-4b1c-96a9-9fd53e66d61f",
   "metadata": {},
   "outputs": [],
   "source": []
  }
 ],
 "metadata": {
  "kernelspec": {
   "display_name": "Python 3 (ipykernel)",
   "language": "python",
   "name": "python3"
  },
  "language_info": {
   "codemirror_mode": {
    "name": "ipython",
    "version": 3
   },
   "file_extension": ".py",
   "mimetype": "text/x-python",
   "name": "python",
   "nbconvert_exporter": "python",
   "pygments_lexer": "ipython3",
   "version": "3.11.7"
  }
 },
 "nbformat": 4,
 "nbformat_minor": 5
}
